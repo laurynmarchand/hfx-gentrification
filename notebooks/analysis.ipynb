{
  "nbformat": 4,
  "nbformat_minor": 0,
  "metadata": {
    "kernelspec": {
      "name": "python3",
      "display_name": "Python 3"
    },
    "colab": {
      "name": "analysis.ipynb",
      "provenance": []
    }
  },
  "cells": [
    {
      "cell_type": "code",
      "metadata": {
        "id": "6jBoqbLUmIou"
      },
      "source": [
        "import pandas as pd\n",
        "import numpy as np\n",
        "import geopandas as gpd\n",
        "import pathlib\n",
        "import matplotlib.pyplot as plt\n",
        "import descartes\n",
        "from shapely import wkt\n",
        "import contextily as ctx"
      ],
      "execution_count": 7,
      "outputs": []
    },
    {
      "cell_type": "code",
      "metadata": {
        "id": "v_AAUgHDxCqZ"
      },
      "source": [
        "# Reading in the Canadian census tract shapefiles\n",
        "tracts = gpd.read_file('/data/lct_000a16a_e.shp')\n",
        "tracts = tracts.to_crs(epsg=3857)\n",
        "\n",
        "# Locating selected Halifax tracts between ID values\n",
        "i = 0\n",
        "pids = []\n",
        "geometries = []\n",
        "for index, row in tracts.iterrows():\n",
        "  pid = float(row.CTUID)\n",
        "  if (pid > 2050000.00 and pid < 2050026.00) or (pid > 2050099.00 and pid < 2050105.00) or (pid > 2050107.00 and pid < 2050113.00):\n",
        "    pids.append(row.CTUID)\n",
        "    geometries.append(row.geometry)\n",
        "    i += 1\n",
        "\n",
        "# Preparing the Halifax GeoDataFrame\n",
        "df = pd.DataFrame({'pid': pids, 'geometry': geometries})\n",
        "halifax = gpd.GeoDataFrame(df, geometry='geometry')"
      ],
      "execution_count": 9,
      "outputs": []
    },
    {
      "cell_type": "code",
      "metadata": {
        "id": "Dkt1dgW3sPBT"
      },
      "source": [
        "ax = halifax.plot(figsize=(10, 10), alpha=0.5, edgecolor='k')\n",
        "ctx.add_basemap(ax, zoom=12)"
      ],
      "execution_count": null,
      "outputs": []
    }
  ]
}